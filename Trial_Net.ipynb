{
  "nbformat": 4,
  "nbformat_minor": 0,
  "metadata": {
    "colab": {
      "name": "Trial Net.ipynb",
      "provenance": [],
      "collapsed_sections": [],
      "include_colab_link": true
    },
    "kernelspec": {
      "name": "python3",
      "display_name": "Python 3"
    }
  },
  "cells": [
    {
      "cell_type": "markdown",
      "metadata": {
        "id": "view-in-github",
        "colab_type": "text"
      },
      "source": [
        "<a href=\"https://colab.research.google.com/github/kavanshah1197/Machine_Learning/blob/trying_feature/Trial_Net.ipynb\" target=\"_parent\"><img src=\"https://colab.research.google.com/assets/colab-badge.svg\" alt=\"Open In Colab\"/></a>"
      ]
    },
    {
      "cell_type": "code",
      "metadata": {
        "id": "Z2w1NNJj7XiL",
        "colab_type": "code",
        "colab": {
          "base_uri": "https://localhost:8080/",
          "height": 72
        },
        "outputId": "1bf732ba-d944-4019-953a-882d0e7e846c"
      },
      "source": [
        "import numpy as np\n",
        "import matplotlib.pyplot as plt\n",
        "import seaborn as sns\n",
        "import pandas as pd\n",
        "import math"
      ],
      "execution_count": null,
      "outputs": [
        {
          "output_type": "stream",
          "text": [
            "/usr/local/lib/python3.6/dist-packages/statsmodels/tools/_testing.py:19: FutureWarning: pandas.util.testing is deprecated. Use the functions in the public API at pandas.testing instead.\n",
            "  import pandas.util.testing as tm\n"
          ],
          "name": "stderr"
        }
      ]
    },
    {
      "cell_type": "code",
      "metadata": {
        "id": "1k1-nnDl8JxA",
        "colab_type": "code",
        "colab": {}
      },
      "source": [
        "PV_data = pd.read_csv('/content/drive/My Drive/MS Thesis/Thick_walled_PV/PV_data.csv', header = None).to_numpy()"
      ],
      "execution_count": null,
      "outputs": []
    },
    {
      "cell_type": "code",
      "metadata": {
        "id": "kdXDporp88yT",
        "colab_type": "code",
        "colab": {}
      },
      "source": [
        "X = PV_data[0:4, :]\n",
        "num_data_points = X.shape[1]\n",
        "Y = PV_data[4, :].reshape(1, num_data_points)\n",
        "\n",
        "shuffled_cols = np.random.permutation(num_data_points)\n",
        "\n",
        "percent_training = 80/100\n",
        "percent_dev = 15/100\n",
        "percent_test = 5/100\n",
        "\n",
        "m_train = math.floor(percent_training*num_data_points)\n",
        "m_dev = math.floor(percent_dev*num_data_points)\n",
        "m_test = num_data_points - m_train - m_dev\n",
        "\n",
        "X_train = X[:, shuffled_cols[0:m_train]]\n",
        "X_dev = X[:, shuffled_cols[m_train: m_train + m_dev]]\n",
        "X_test = X[:, shuffled_cols[m_train + m_dev: ]]\n",
        "\n",
        "Y_train = Y[:, shuffled_cols[0:m_train]]\n",
        "Y_dev = Y[:, shuffled_cols[m_train: m_train + m_dev]]\n",
        "Y_test = Y[:, shuffled_cols[m_train + m_dev: ]]\n",
        "\n",
        "X_train_mean = np.mean(X_train, axis = 1, keepdims=True)\n",
        "X_train_std = np.std(X_train, axis = 1, keepdims=True)\n",
        "\n",
        "X_train_n = (X_train-X_train_mean)/X_train_std\n",
        "X_dev_n = (X_dev - X_train_mean)/X_train_std\n",
        "X_test_n = (X_test - X_train_mean)/X_train_std\n",
        "abc = 1\n"
      ],
      "execution_count": null,
      "outputs": []
    },
    {
      "cell_type": "code",
      "metadata": {
        "id": "duaL40SiKgBG",
        "colab_type": "code",
        "colab": {}
      },
      "source": [
        "num_hidden_layers = 2\n",
        "num_layers = num_hidden_layers + 1\n",
        "\n",
        "n_x = X_train_n.shape[0]\n",
        "n_h1 = 8\n",
        "n_h2 = 8\n",
        "n_y = Y_train.shape[0]\n",
        "num_units_list = [n_x, n_h1, n_h2, n_y]\n",
        "\n",
        "act_h1 = 'relu'\n",
        "act_h2 = 'relu'\n",
        "act_L = 'relu'\n",
        "act_fun_list = [act_h1, act_h2, act_L]\n",
        "\n",
        "lambd = 0\n",
        "\n",
        "learning_rate = 1e-4\n",
        "num_iters = 90000"
      ],
      "execution_count": null,
      "outputs": []
    },
    {
      "cell_type": "code",
      "metadata": {
        "id": "XxGwmdPcLyrN",
        "colab_type": "code",
        "colab": {}
      },
      "source": [
        "def initialize_params(n_input, n_output, act_fun = 'relu'):\n",
        "\n",
        "  if act_fun == 'sigmoid' or act_fun == 'tanh':\n",
        "    W = np.random.randn(n_output, n_input)*0.01#*np.sqrt(1/n_input)\n",
        "  elif act_fun == 'relu' or act_fun == 'leaky_relu':\n",
        "    W = np.random.randn(n_output, n_input)*0.01#*np.sqrt(2/n_input)\n",
        "  else:\n",
        "    W = np.random.randn(n_output, n_input)*0.01\n",
        "\n",
        "  b = np.zeros((n_output, 1))\n",
        "\n",
        "  return W, b"
      ],
      "execution_count": null,
      "outputs": []
    },
    {
      "cell_type": "code",
      "metadata": {
        "id": "3Jp4qzZJMqR6",
        "colab_type": "code",
        "colab": {}
      },
      "source": [
        "def initialize_params_nn(num_units_list, act_fun_list):\n",
        "  np.random.seed(3)\n",
        "  num_layers = len(act_fun_list)\n",
        "  parameters = {}\n",
        "  for l in range(num_layers):\n",
        "    parameters['W' + str(l+1)], parameters['b' + str(l+1)] = initialize_params(num_units_list[l], num_units_list[l+1], act_fun_list[l])\n",
        "\n",
        "  return parameters"
      ],
      "execution_count": null,
      "outputs": []
    },
    {
      "cell_type": "code",
      "metadata": {
        "id": "uvDVDd7xUtW7",
        "colab_type": "code",
        "colab": {}
      },
      "source": [
        "def activ(z, act_fun = 'relu'):\n",
        "\n",
        "  if act_fun == 'relu':\n",
        "    a = np.maximum(0, z)\n",
        "  elif act_fun == 'leaky_relu':\n",
        "    a = np.maximum(0.01*z, z)\n",
        "  elif act_fun == 'sigmoid':\n",
        "    a = 1/(1+np.exp(-z))\n",
        "  elif act_fun == 'tanh':\n",
        "    a = (np.exp(z) - np.exp(-z))/(np.exp(z) + np.exp(-z))\n",
        "  elif act_fun == 'linear':\n",
        "    a = z\n",
        "\n",
        "  return a"
      ],
      "execution_count": null,
      "outputs": []
    },
    {
      "cell_type": "code",
      "metadata": {
        "id": "wB4E9NhAbmqc",
        "colab_type": "code",
        "colab": {}
      },
      "source": [
        "def forward_prop_nn(X, parameters, act_fun_list):\n",
        "\n",
        "  num_layers = len(act_fun_list)\n",
        "  cache = {}\n",
        "  current_layer_data = X\n",
        "  for l in range(num_layers):\n",
        "    cache['z' + str(l+1)] = np.dot(parameters['W' + str(l+1)], current_layer_data) + parameters['b' + str(l+1)]\n",
        "    cache['a' + str(l+1)] = activ(cache['z' + str(l+1)], act_fun = act_fun_list[l])\n",
        "    current_layer_data = cache['a' + str(l+1)]\n",
        "\n",
        "  AL = cache['a' + str(num_layers)]\n",
        "  cache['a0'] = X\n",
        "  return cache, AL"
      ],
      "execution_count": null,
      "outputs": []
    },
    {
      "cell_type": "code",
      "metadata": {
        "id": "-1t73wuwdhj1",
        "colab_type": "code",
        "colab": {}
      },
      "source": [
        "def cost_func(AL, Y):\n",
        "\n",
        "  m = Y.shape[1]\n",
        "  cost = np.sqrt(np.sum(np.square(AL - Y))/m)\n",
        "  #cost = (-1/m)*np.sum(Y*np.log(AL) + (1-Y)*np.log(1-AL))\n",
        "  cost = np.squeeze(cost)\n",
        "  return cost"
      ],
      "execution_count": null,
      "outputs": []
    },
    {
      "cell_type": "code",
      "metadata": {
        "id": "wKk8KOw0rcas",
        "colab_type": "code",
        "colab": {}
      },
      "source": [
        "def act_fun_deriv(z, act_fun):\n",
        "\n",
        "  if act_fun == 'relu':\n",
        "    act_fun_grad = (z>=0).astype(int)\n",
        "  elif act_fun == 'sigmoid':\n",
        "    act_fun_grad = activ(z, 'sigmoid')*(1-activ(z, 'sigmoid'))\n",
        "  elif act_fun == 'linear':\n",
        "    act_fun_grad = np.ones(z.shape)\n",
        "\n",
        "  return act_fun_grad"
      ],
      "execution_count": null,
      "outputs": []
    },
    {
      "cell_type": "code",
      "metadata": {
        "id": "VlAn1A1beUUr",
        "colab_type": "code",
        "colab": {}
      },
      "source": [
        "def backprop_nn(AL, Y, act_fun_list, cache, parameters, cost):\n",
        "\n",
        "  num_layers = len(act_fun_list)\n",
        "  m = Y.shape[1]\n",
        "  grads = {}\n",
        "\n",
        "  dA3 = (1/(m*cost))*(AL - Y)\n",
        "  dZ3 = dA3*act_fun_deriv(cache['z3'], 'relu')\n",
        "  grads['dW3'] = np.dot(dZ3, cache['a2'].T)\n",
        "  grads['db3'] = np.sum(dZ3, axis=1, keepdims=True)\n",
        "\n",
        "  dA2 = np.dot(parameters['W3'].T, dZ3)\n",
        "  dZ2 = dA2*act_fun_deriv(cache['z2'], 'relu')\n",
        "  grads['dW2'] = np.dot(dZ2, cache['a1'].T)\n",
        "  grads['db2'] = np.sum(dZ2, axis=1, keepdims=True)\n",
        "\n",
        "  dA1 = np.dot(parameters['W2'].T, dZ2)\n",
        "  dZ1 = dA1*act_fun_deriv(cache['z1'], 'relu')\n",
        "  grads['dW1'] = np.dot(dZ1, cache['a0'].T)\n",
        "  grads['db1'] = np.sum(dZ1, axis=1, keepdims=True)\n",
        "\n",
        "  return grads"
      ],
      "execution_count": null,
      "outputs": []
    },
    {
      "cell_type": "code",
      "metadata": {
        "id": "4h5eI1HmylTn",
        "colab_type": "code",
        "colab": {}
      },
      "source": [
        "def update_params(parameters, grads, learning_rate, num_layers):\n",
        "\n",
        "  for l in range(num_layers):\n",
        "    parameters[\"W\" + str(l+1)] = parameters[\"W\" + str(l+1)] - learning_rate*grads[\"dW\" + str(l+1)]\n",
        "    parameters[\"b\" + str(l+1)] = parameters[\"b\" + str(l+1)] - learning_rate*grads[\"db\" + str(l+1)]\n",
        "\n",
        "  return parameters"
      ],
      "execution_count": null,
      "outputs": []
    },
    {
      "cell_type": "code",
      "metadata": {
        "id": "Z7VhyfthSqqO",
        "colab_type": "code",
        "colab": {}
      },
      "source": [
        "parameters = initialize_params_nn(num_units_list, act_fun_list)\n",
        "cost_tracker = np.zeros(num_iters)\n",
        "for iter in range(num_iters):\n",
        "  cache, AL = forward_prop_nn(X_train_n, parameters, act_fun_list)\n",
        "  cost_tracker[iter] = cost_func(AL, Y_train)\n",
        "  grads = backprop_nn(AL, Y_train, act_fun_list, cache, parameters, cost_tracker[iter])\n",
        "  parameters = update_params(parameters, grads, learning_rate, num_layers)"
      ],
      "execution_count": null,
      "outputs": []
    },
    {
      "cell_type": "code",
      "metadata": {
        "id": "egQ5oVUgrOAi",
        "colab_type": "code",
        "colab": {
          "base_uri": "https://localhost:8080/",
          "height": 52
        },
        "outputId": "5fc10209-f117-4059-9feb-752440f53246"
      },
      "source": [
        "cost_tracker"
      ],
      "execution_count": null,
      "outputs": [
        {
          "output_type": "execute_result",
          "data": {
            "text/plain": [
              "array([38036130.90498734, 38036130.90494516, 38036130.90485875, ...,\n",
              "        1444943.12302086,  2259938.01836547,  1444911.10802743])"
            ]
          },
          "metadata": {
            "tags": []
          },
          "execution_count": 14
        }
      ]
    },
    {
      "cell_type": "code",
      "metadata": {
        "id": "-uSMqImtG8iW",
        "colab_type": "code",
        "colab": {
          "base_uri": "https://localhost:8080/",
          "height": 293
        },
        "outputId": "23b3dc44-3af7-4976-f8b0-9271b4112e95"
      },
      "source": [
        "plt.plot(np.arange(num_iters), cost_tracker)"
      ],
      "execution_count": null,
      "outputs": [
        {
          "output_type": "execute_result",
          "data": {
            "text/plain": [
              "[<matplotlib.lines.Line2D at 0x7fb91bb16d68>]"
            ]
          },
          "metadata": {
            "tags": []
          },
          "execution_count": 15
        },
        {
          "output_type": "display_data",
          "data": {
            "image/png": "[encoded data removed]",
            "text/plain": [
              "<Figure size 432x288 with 1 Axes>"
            ]
          },
          "metadata": {
            "tags": [],
            "needs_background": "light"
          }
        }
      ]
    },
    {
      "cell_type": "code",
      "metadata": {
        "id": "j8YD_0qhG__3",
        "colab_type": "code",
        "colab": {
          "base_uri": "https://localhost:8080/",
          "height": 52
        },
        "outputId": "f873cbdc-648a-4766-e059-b78558ba2313"
      },
      "source": [
        "AL"
      ],
      "execution_count": null,
      "outputs": [
        {
          "output_type": "execute_result",
          "data": {
            "text/plain": [
              "array([[46095605.62788823, 34043671.52564763, 39327353.38332728, ...,\n",
              "        22826386.96510576, 40510782.5437315 , 38208595.4588739 ]])"
            ]
          },
          "metadata": {
            "tags": []
          },
          "execution_count": 16
        }
      ]
    },
    {
      "cell_type": "code",
      "metadata": {
        "id": "_rVlBD0hICDY",
        "colab_type": "code",
        "colab": {
          "base_uri": "https://localhost:8080/",
          "height": 52
        },
        "outputId": "5dad5653-a188-4141-8ff5-ec4e0acba648"
      },
      "source": [
        "Y_train"
      ],
      "execution_count": null,
      "outputs": [
        {
          "output_type": "execute_result",
          "data": {
            "text/plain": [
              "array([[44215925.49999998, 32468662.50565584, 37854010.58208311, ...,\n",
              "        21368156.33066665, 39181568.99834494, 36375667.73833975]])"
            ]
          },
          "metadata": {
            "tags": []
          },
          "execution_count": 17
        }
      ]
    },
    {
      "cell_type": "code",
      "metadata": {
        "id": "MDUCga3aIDfn",
        "colab_type": "code",
        "colab": {
          "base_uri": "https://localhost:8080/",
          "height": 35
        },
        "outputId": "bfbca7f6-e04e-41ea-98c5-50d0ffd1fc3d"
      },
      "source": [
        "cost_tracker[-1]"
      ],
      "execution_count": null,
      "outputs": [
        {
          "output_type": "execute_result",
          "data": {
            "text/plain": [
              "1444911.108027432"
            ]
          },
          "metadata": {
            "tags": []
          },
          "execution_count": 18
        }
      ]
    },
    {
      "cell_type": "code",
      "metadata": {
        "id": "w_9ZRV5eOsmm",
        "colab_type": "code",
        "colab": {
          "base_uri": "https://localhost:8080/",
          "height": 35
        },
        "outputId": "2deccaac-f4bd-4262-8508-d44627c3ce04"
      },
      "source": [
        "np.mean(AL - Y_train)"
      ],
      "execution_count": null,
      "outputs": [
        {
          "output_type": "execute_result",
          "data": {
            "text/plain": [
              "1212247.3902373035"
            ]
          },
          "metadata": {
            "tags": []
          },
          "execution_count": 19
        }
      ]
    },
    {
      "cell_type": "code",
      "metadata": {
        "id": "q6a60RldWR18",
        "colab_type": "code",
        "colab": {}
      },
      "source": [
        ""
      ],
      "execution_count": null,
      "outputs": []
    }
  ]
}